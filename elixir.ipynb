{
  "cells": [
    {
      "cell_type": "code",
      "execution_count": null,
      "metadata": {},
      "outputs": [],
      "source": []
    },
    {
      "cell_type": "markdown",
      "metadata": {
        "colab_type": "text",
        "id": "view-in-github"
      },
      "source": [
        "<a href=\"https://colab.research.google.com/github/aamnaumer/elixirDevOpsProject/blob/main/elixir.ipynb\" target=\"_parent\"><img src=\"https://colab.research.google.com/assets/colab-badge.svg\" alt=\"Open In Colab\"/></a>"
      ]
    },
    {
      "cell_type": "code",
      "execution_count": null,
      "metadata": {
        "id": "zfh99e2Pqvv_"
      },
      "outputs": [],
      "source": [
        "a = float(input('enter length of fist side of trinagle: '))\n",
        "b = float(input('enter length of second side: '))\n",
        "c = float(input('enter enter length of thrid side: '))\n",
        "\n",
        "x= (a+b+c)/2 \n",
        "area = (x*(x-a)*(x-b)*(x-c)) ** 0.5\n",
        "print(\"the area of this triangle is: \", area)"
      ]
    },
    {
      "cell_type": "code",
      "execution_count": null,
      "metadata": {
        "id": "SsLlXwqorcp9"
      },
      "outputs": [],
      "source": []
    }
  ],
  "metadata": {
    "colab": {
      "authorship_tag": "ABX9TyPnlTN9tKQKRBPMBet2Yipo",
      "collapsed_sections": [],
      "include_colab_link": true,
      "provenance": []
    },
    "kernelspec": {
      "display_name": "Python 3",
      "name": "python3"
    },
    "language_info": {
      "name": "python"
    }
  },
  "nbformat": 4,
  "nbformat_minor": 0
}
